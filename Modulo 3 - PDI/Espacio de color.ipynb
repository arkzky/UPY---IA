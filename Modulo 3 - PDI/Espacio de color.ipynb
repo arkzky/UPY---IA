{
 "cells": [
  {
   "cell_type": "markdown",
   "metadata": {},
   "source": [
    "# Espacio de color"
   ]
  },
  {
   "cell_type": "markdown",
   "metadata": {},
   "source": [
    "## Importacion libreria"
   ]
  },
  {
   "cell_type": "code",
   "execution_count": null,
   "metadata": {},
   "outputs": [],
   "source": [
    "import cv2"
   ]
  },
  {
   "cell_type": "markdown",
   "metadata": {},
   "source": [
    "## Lectura de imagen"
   ]
  },
  {
   "cell_type": "code",
   "execution_count": 2,
   "metadata": {},
   "outputs": [],
   "source": [
    "imag = cv2.imread(\"Rubik.jpg\")\n",
    "cv2.imshow(\"image\", imag)\n",
    "cv2.waitKey(0)\n",
    "cv2.destroyAllWindows()"
   ]
  },
  {
   "cell_type": "markdown",
   "metadata": {},
   "source": [
    "## Espacio de color LAB"
   ]
  },
  {
   "cell_type": "markdown",
   "metadata": {},
   "source": [
    "L - Ligereza (Intensidad).\n",
    "\n",
    "A- componente de color que varía de verde a magenta.\n",
    "\n",
    "B - componente de color que va del azul al amarillo.\n",
    "\n",
    "El espacio de color Lab es bastante diferente del espacio de color RGB. En el espacio de color RGB, la información de color se separa en tres canales, pero los mismos tres canales también codifican información de brillo. Por otro lado, en el espacio de color Lab, el canal L es independiente de la información de color y solo codifica el brillo, los otros dos canales codifican el color"
   ]
  },
  {
   "cell_type": "code",
   "execution_count": 3,
   "metadata": {},
   "outputs": [],
   "source": [
    "imag1 = cv2.cvtColor(imag, cv2.COLOR_BGR2LAB)\n",
    "cv2.imshow(\"image\", imag1)\n",
    "cv2.waitKey(0)\n",
    "cv2.destroyAllWindows()"
   ]
  },
  {
   "cell_type": "markdown",
   "metadata": {},
   "source": [
    "## Espacio de color YCrCb"
   ]
  },
  {
   "cell_type": "markdown",
   "metadata": {},
   "source": [
    "El espacio de color YCrCb se deriva del espacio de color RGB y tiene los siguientes componentes:\n",
    "\n",
    "Y- componente de luminancia o luma obtenido de RGB después de la corrección gamma.\n",
    "\n",
    "Cr = R - Y (qué tan lejos está el componente rojo de Luma).\n",
    "\n",
    "Cb = B - Y (a qué distancia está el componente azul de Luma)."
   ]
  },
  {
   "cell_type": "code",
   "execution_count": 4,
   "metadata": {},
   "outputs": [],
   "source": [
    "imag2 = cv2.cvtColor(imag, cv2.COLOR_BGR2YCrCb)\n",
    "cv2.imshow(\"image\", imag2)\n",
    "cv2.waitKey(0)\n",
    "cv2.destroyAllWindows()"
   ]
  },
  {
   "cell_type": "markdown",
   "metadata": {},
   "source": [
    "## Espacio de color HSV"
   ]
  },
  {
   "cell_type": "markdown",
   "metadata": {},
   "source": [
    "El espacio de color HSV tiene los siguientes componentes.\n",
    "\n",
    "H - Hue (longitud de onda dominante).\n",
    "S - Saturación (pureza / matices del color).\n",
    "V - Valor (Intensidad)."
   ]
  },
  {
   "cell_type": "code",
   "execution_count": 5,
   "metadata": {},
   "outputs": [],
   "source": [
    "imag3=cv2.cvtColor(imag,cv2.COLOR_BGR2HSV)\n",
    "cv2.imshow(\"Image\",imag3)\n",
    "cv2.waitKey(0)\n",
    "cv2.destroyAllWindows()"
   ]
  },
  {
   "cell_type": "code",
   "execution_count": null,
   "metadata": {},
   "outputs": [],
   "source": []
  }
 ],
 "metadata": {
  "kernelspec": {
   "display_name": "Python 3",
   "language": "python",
   "name": "python3"
  },
  "language_info": {
   "codemirror_mode": {
    "name": "ipython",
    "version": 3
   },
   "file_extension": ".py",
   "mimetype": "text/x-python",
   "name": "python",
   "nbconvert_exporter": "python",
   "pygments_lexer": "ipython3",
   "version": "3.7.3"
  }
 },
 "nbformat": 4,
 "nbformat_minor": 2
}
