{
 "cells": [
  {
   "cell_type": "code",
   "execution_count": 1,
   "metadata": {},
   "outputs": [],
   "source": [
    "import cv2\n",
    "import numpy"
   ]
  },
  {
   "cell_type": "code",
   "execution_count": 11,
   "metadata": {},
   "outputs": [
    {
     "data": {
      "text/plain": [
       "-1"
      ]
     },
     "execution_count": 11,
     "metadata": {},
     "output_type": "execute_result"
    }
   ],
   "source": [
    "# Leer imagen\n",
    "img = cv2.imread(\"hermanas.jpg\")\n",
    "\n",
    "# Redimension de imagen (esta muy grande)\n",
    "escala_porcentaje = 20 # Porcentaje del tamaño original\n",
    "ancho = int(img.shape[1] * escala_porcentaje / 100)\n",
    "largo = int(img.shape[0] * escala_porcentaje / 100)\n",
    "dim = (ancho, largo)\n",
    "\n",
    "# Imagen redimensionada\n",
    "redimension = cv2.resize(img, dim, interpolation = cv2.INTER_AREA)\n",
    "\n",
    "# Desplegar\n",
    "cv2.imshow(\"redimension\",redimension)\n",
    "cv2.waitKey(0)\n",
    "\n",
    "# Poner la imagen en el espacio de color YUV\n",
    "imgYUV = cv2.cvtColor(redimension, cv2.COLOR_BGR2YUV)\n",
    "#cv2.imshow(\"image\",imgYUV)\n",
    "#cv2.waitKey(0)\n",
    "\n",
    "# Aplicando método de ecualización\n",
    "imgYUV[:,:,0] = cv2.equalizeHist(imgYUV[:,:,0])\n",
    "#cv2.imshow(\"image\", imgYUV)\n",
    "#cv2.waitKey(0)\n",
    "\n",
    "resultImg = cv2.cvtColor(imgYUV, cv2.COLOR_YUV2BGR)\n",
    "cv2.imshow(\"image\", resultImg)\n",
    "cv2.waitKey(0)"
   ]
  },
  {
   "cell_type": "code",
   "execution_count": null,
   "metadata": {},
   "outputs": [],
   "source": []
  }
 ],
 "metadata": {
  "kernelspec": {
   "display_name": "Python 3",
   "language": "python",
   "name": "python3"
  },
  "language_info": {
   "codemirror_mode": {
    "name": "ipython",
    "version": 3
   },
   "file_extension": ".py",
   "mimetype": "text/x-python",
   "name": "python",
   "nbconvert_exporter": "python",
   "pygments_lexer": "ipython3",
   "version": "3.7.3"
  }
 },
 "nbformat": 4,
 "nbformat_minor": 2
}
